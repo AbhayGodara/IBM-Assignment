{
 "cells": [
  {
   "cell_type": "markdown",
   "id": "a02c5049-d02b-4c16-bf52-29c239382f2a",
   "metadata": {},
   "source": [
    "# Data Science Tools and Ecosystem"
   ]
  },
  {
   "cell_type": "markdown",
   "id": "bb5cd99c-dd7d-49f9-a62e-eaca9eb292e1",
   "metadata": {},
   "source": [
    "In this notebook, Data Science Tools and Ecosystem are summarized."
   ]
  },
  {
   "cell_type": "markdown",
   "id": "77f26a20-fc30-4411-aee3-5eb4830cf92e",
   "metadata": {},
   "source": [
    "Objectives:\n",
    "-  List popular languages in Data Science\n",
    "-  List commonly used libraries used by Data Scientists\n",
    "-  Table of commonly used tools in Data Science\n",
    "-  Some examples of arithematic expressions"
   ]
  },
  {
   "cell_type": "markdown",
   "id": "edf33251-2ec1-4ff9-876a-f95ef6e5364a",
   "metadata": {},
   "source": [
    "Some of the popular languages that Data Scientists use are\n",
    "1. Python\n",
    "2. R\n",
    "3. SQL"
   ]
  },
  {
   "cell_type": "markdown",
   "id": "6cef62f2-6158-4163-87d0-61d777ef585a",
   "metadata": {},
   "source": [
    "Some of the commonly used libraries used by Data Scientists include:\n",
    "1. Matplotlib\n",
    "2. Pandas\n",
    "3. Seaborn"
   ]
  },
  {
   "cell_type": "markdown",
   "id": "2525e6d6-c881-431a-a9a8-d1e2dfc31acc",
   "metadata": {},
   "source": [
    "| Data Science Tools |\n",
    "| -------|\n",
    "|Excel   |\n",
    "| RStudio|\n",
    "| Hadoop |"
   ]
  },
  {
   "cell_type": "markdown",
   "id": "a2511f8c-17ac-4d6a-8d4e-9d2f0dd15e4c",
   "metadata": {},
   "source": [
    "### Below are a few examples of evaluating arithmetic expressions in Python"
   ]
  },
  {
   "cell_type": "code",
   "execution_count": null,
   "id": "33211a51-06e5-42a7-8f3d-d7e1ed63da02",
   "metadata": {},
   "outputs": [],
   "source": [
    "# This a simple arithmetic expression to mutiply then add integers"
   ]
  },
  {
   "cell_type": "code",
   "execution_count": 1,
   "id": "74d41ab4-6567-4b10-9738-77376c313667",
   "metadata": {
    "tags": []
   },
   "outputs": [
    {
     "data": {
      "text/plain": [
       "17"
      ]
     },
     "execution_count": 1,
     "metadata": {},
     "output_type": "execute_result"
    }
   ],
   "source": [
    "(3*4)+5"
   ]
  },
  {
   "cell_type": "code",
   "execution_count": null,
   "id": "1008745a-2da0-478c-9f32-1d953f2f135c",
   "metadata": {},
   "outputs": [],
   "source": [
    "# This will convert 200 minutes to hours by diving by 60"
   ]
  },
  {
   "cell_type": "code",
   "execution_count": 2,
   "id": "2340ebf6-5717-44d5-bcd7-3d7471f3b7df",
   "metadata": {
    "tags": []
   },
   "outputs": [
    {
     "data": {
      "text/plain": [
       "3.3333333333333335"
      ]
     },
     "execution_count": 2,
     "metadata": {},
     "output_type": "execute_result"
    }
   ],
   "source": [
    "200/60"
   ]
  },
  {
   "cell_type": "markdown",
   "id": "289d8e8d-4424-4540-9c2d-eedfb45e62f3",
   "metadata": {},
   "source": [
    "## Author\n",
    "Abhay Godara"
   ]
  }
 ],
 "metadata": {
  "kernelspec": {
   "display_name": "Python",
   "language": "python",
   "name": "conda-env-python-py"
  },
  "language_info": {
   "codemirror_mode": {
    "name": "ipython",
    "version": 3
   },
   "file_extension": ".py",
   "mimetype": "text/x-python",
   "name": "python",
   "nbconvert_exporter": "python",
   "pygments_lexer": "ipython3",
   "version": "3.7.12"
  }
 },
 "nbformat": 4,
 "nbformat_minor": 5
}
